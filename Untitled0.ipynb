{
 "metadata": {
  "name": "",
  "signature": "sha256:3f3de5164be8896d610c7fe063d8fdc55359073eecacb83b23f22fe904615f4c"
 },
 "nbformat": 3,
 "nbformat_minor": 0,
 "worksheets": [
  {
   "cells": [
    {
     "cell_type": "code",
     "collapsed": false,
     "input": [
      "from sklearn import datasets\n",
      "import pandas as pd\n",
      "from sklearn.preprocessing import StandardScaler\n",
      "from sklearn.cross_validation import train_test_split\n",
      "from sklearn.metrics import mean_squared_error\n",
      "from sklearn.metrics import r2_score\n",
      "from sklearn.linear_model import LinearRegression"
     ],
     "language": "python",
     "metadata": {},
     "outputs": [],
     "prompt_number": 1
    },
    {
     "cell_type": "code",
     "collapsed": false,
     "input": [
      "bean = datasets.load_boston()\n",
      "print bean.DESCR"
     ],
     "language": "python",
     "metadata": {},
     "outputs": [
      {
       "output_type": "stream",
       "stream": "stdout",
       "text": [
        "Boston House Prices dataset\n",
        "\n",
        "Notes\n",
        "------\n",
        "Data Set Characteristics:  \n",
        "\n",
        "    :Number of Instances: 506 \n",
        "\n",
        "    :Number of Attributes: 13 numeric/categorical predictive\n",
        "    \n",
        "    :Median Value (attribute 14) is usually the target\n",
        "\n",
        "    :Attribute Information (in order):\n",
        "        - CRIM     per capita crime rate by town\n",
        "        - ZN       proportion of residential land zoned for lots over 25,000 sq.ft.\n",
        "        - INDUS    proportion of non-retail business acres per town\n",
        "        - CHAS     Charles River dummy variable (= 1 if tract bounds river; 0 otherwise)\n",
        "        - NOX      nitric oxides concentration (parts per 10 million)\n",
        "        - RM       average number of rooms per dwelling\n",
        "        - AGE      proportion of owner-occupied units built prior to 1940\n",
        "        - DIS      weighted distances to five Boston employment centres\n",
        "        - RAD      index of accessibility to radial highways\n",
        "        - TAX      full-value property-tax rate per $10,000\n",
        "        - PTRATIO  pupil-teacher ratio by town\n",
        "        - B        1000(Bk - 0.63)^2 where Bk is the proportion of blacks by town\n",
        "        - LSTAT    % lower status of the population\n",
        "        - MEDV     Median value of owner-occupied homes in $1000's\n",
        "\n",
        "    :Missing Attribute Values: None\n",
        "\n",
        "    :Creator: Harrison, D. and Rubinfeld, D.L.\n",
        "\n",
        "This is a copy of UCI ML housing dataset.\n",
        "http://archive.ics.uci.edu/ml/datasets/Housing\n",
        "\n",
        "\n",
        "This dataset was taken from the StatLib library which is maintained at Carnegie Mellon University.\n",
        "\n",
        "The Boston house-price data of Harrison, D. and Rubinfeld, D.L. 'Hedonic\n",
        "prices and the demand for clean air', J. Environ. Economics & Management,\n",
        "vol.5, 81-102, 1978.   Used in Belsley, Kuh & Welsch, 'Regression diagnostics\n",
        "...', Wiley, 1980.   N.B. Various transformations are used in the table on\n",
        "pages 244-261 of the latter.\n",
        "\n",
        "The Boston house-price data has been used in many machine learning papers that address regression\n",
        "problems.   \n",
        "     \n",
        "**References**\n",
        "\n",
        "   - Belsley, Kuh & Welsch, 'Regression diagnostics: Identifying Influential Data and Sources of Collinearity', Wiley, 1980. 244-261.\n",
        "   - Quinlan,R. (1993). Combining Instance-Based and Model-Based Learning. In Proceedings on the Tenth International Conference of Machine Learning, 236-243, University of Massachusetts, Amherst. Morgan Kaufmann.\n",
        "   - many more! (see http://archive.ics.uci.edu/ml/datasets/Housing)\n",
        "\n"
       ]
      }
     ],
     "prompt_number": 2
    },
    {
     "cell_type": "code",
     "collapsed": false,
     "input": [
      "def load_boston():\n",
      "    scaler = StandardScaler()\n",
      "    boston = datasets.load_boston()\n",
      "    X=boston.data\n",
      "    y=boston.target\n",
      "    X = scaler.fit_transform(X)\n",
      "    return train_test_split(X,y)\n",
      "    "
     ],
     "language": "python",
     "metadata": {},
     "outputs": [],
     "prompt_number": 3
    },
    {
     "cell_type": "code",
     "collapsed": false,
     "input": [
      "X_train, X_test, y_train, y_test = load_boston()"
     ],
     "language": "python",
     "metadata": {},
     "outputs": [],
     "prompt_number": 4
    },
    {
     "cell_type": "code",
     "collapsed": false,
     "input": [
      "X_train.shape"
     ],
     "language": "python",
     "metadata": {},
     "outputs": [
      {
       "metadata": {},
       "output_type": "pyout",
       "prompt_number": 5,
       "text": [
        "(379L, 13L)"
       ]
      }
     ],
     "prompt_number": 5
    },
    {
     "cell_type": "code",
     "collapsed": false,
     "input": [
      "clf = LinearRegression()\n",
      "clf.fit(X_train, y_train)"
     ],
     "language": "python",
     "metadata": {},
     "outputs": [
      {
       "metadata": {},
       "output_type": "pyout",
       "prompt_number": 6,
       "text": [
        "LinearRegression(copy_X=True, fit_intercept=True, normalize=False)"
       ]
      }
     ],
     "prompt_number": 6
    },
    {
     "cell_type": "code",
     "collapsed": false,
     "input": [
      "zip (y_test, clf.predict(X_test))"
     ],
     "language": "python",
     "metadata": {},
     "outputs": [
      {
       "metadata": {},
       "output_type": "pyout",
       "prompt_number": 7,
       "text": [
        "[(23.600000000000001, 30.607709952674476),\n",
        " (17.199999999999999, 16.65257701913751),\n",
        " (12.699999999999999, 11.341778173385045),\n",
        " (7.2000000000000002, 17.373689976659861),\n",
        " (22.199999999999999, 24.020779037913236),\n",
        " (14.300000000000001, 13.769473000253859),\n",
        " (17.199999999999999, 13.223439915296261),\n",
        " (19.100000000000001, 16.517239826899832),\n",
        " (23.0, 19.781608242748646),\n",
        " (14.4, 3.7842545218625894),\n",
        " (44.0, 37.886611917776264),\n",
        " (21.199999999999999, 22.942513495569699),\n",
        " (17.800000000000001, 9.7222733084650788),\n",
        " (50.0, 24.374951583400563),\n",
        " (24.5, 27.618179341168762),\n",
        " (21.0, 21.245479472210732),\n",
        " (21.699999999999999, 21.590287323853126),\n",
        " (11.9, 7.6265677383170765),\n",
        " (28.5, 33.64033944012165),\n",
        " (23.699999999999999, 28.391692262117942),\n",
        " (22.399999999999999, 21.777093587430507),\n",
        " (20.199999999999999, 15.859258888712723),\n",
        " (30.100000000000001, 35.268724645700644),\n",
        " (16.800000000000001, 20.119136098597519),\n",
        " (19.0, 21.23029679710524),\n",
        " (20.0, 16.167206959001469),\n",
        " (26.399999999999999, 22.906846628155655),\n",
        " (42.799999999999997, 29.783160838493473),\n",
        " (43.799999999999997, 34.947884785082159),\n",
        " (19.0, 13.792256912303337),\n",
        " (15.6, 15.529096794147092),\n",
        " (22.899999999999999, 20.018576189849533),\n",
        " (50.0, 41.16673057479192),\n",
        " (43.5, 39.534411453489881),\n",
        " (21.899999999999999, 14.818853108934047),\n",
        " (21.199999999999999, 23.005470008487297),\n",
        " (20.5, 19.784522684797778),\n",
        " (36.5, 36.121451678503291),\n",
        " (23.300000000000001, 25.527265010798853),\n",
        " (20.600000000000001, 22.281938193745603),\n",
        " (21.699999999999999, 22.871382720543114),\n",
        " (29.600000000000001, 24.933880253464459),\n",
        " (18.199999999999999, 19.087256414925687),\n",
        " (13.5, 13.635993995533632),\n",
        " (22.600000000000001, 26.990597002513958),\n",
        " (42.299999999999997, 36.975759172698105),\n",
        " (17.600000000000001, 16.221901475529727),\n",
        " (29.800000000000001, 24.959002808052198),\n",
        " (22.899999999999999, 29.244248080927765),\n",
        " (11.699999999999999, 15.506722021902196),\n",
        " (50.0, 31.031033380027957),\n",
        " (32.0, 33.14556975698099),\n",
        " (20.300000000000001, 19.76581630745941),\n",
        " (21.5, 24.24801728446884),\n",
        " (17.800000000000001, 17.61262566222404),\n",
        " (12.1, 17.765474436428491),\n",
        " (21.199999999999999, 21.516563179098192),\n",
        " (22.0, 27.394326371534703),\n",
        " (32.700000000000003, 30.287241236051919),\n",
        " (25.300000000000001, 25.175223102920292),\n",
        " (23.800000000000001, 24.765587079094299),\n",
        " (23.800000000000001, 25.474047669646836),\n",
        " (24.0, 25.233624855516076),\n",
        " (23.300000000000001, 25.817584371804095),\n",
        " (13.9, 17.354191488277355),\n",
        " (21.699999999999999, 21.534936459243003),\n",
        " (19.199999999999999, 23.259733058073952),\n",
        " (15.4, 17.538843946108443),\n",
        " (20.0, 17.873358620555848),\n",
        " (35.200000000000003, 34.713582935710932),\n",
        " (18.899999999999999, 14.658190232294494),\n",
        " (19.600000000000001, 17.500785038433982),\n",
        " (23.100000000000001, 16.414523951176541),\n",
        " (12.0, 11.120295962458577),\n",
        " (16.0, 18.625099876508646),\n",
        " (8.6999999999999993, 8.4605727801411064),\n",
        " (31.600000000000001, 32.451067051597057),\n",
        " (15.4, 14.801477608600926),\n",
        " (28.699999999999999, 25.227271169857612),\n",
        " (21.800000000000001, 20.183869901346682),\n",
        " (25.0, 29.300799195531944),\n",
        " (31.100000000000001, 32.160674029862207),\n",
        " (18.600000000000001, 16.299911406718763),\n",
        " (20.699999999999999, 24.902332509738446),\n",
        " (29.100000000000001, 30.492253394988033),\n",
        " (17.100000000000001, 16.764686852228209),\n",
        " (22.0, 26.089803962208329),\n",
        " (13.800000000000001, 12.139330687409018),\n",
        " (29.0, 31.787919313102037),\n",
        " (19.899999999999999, 19.006946466025035),\n",
        " (27.5, 24.172240403906081),\n",
        " (22.699999999999999, 20.488737378334722),\n",
        " (15.6, 12.190928044236667),\n",
        " (17.199999999999999, 14.34758157725485),\n",
        " (18.0, 18.684684287765286),\n",
        " (48.299999999999997, 37.238660313203482),\n",
        " (15.300000000000001, 18.987107170308015),\n",
        " (23.899999999999999, 24.743052271299355),\n",
        " (24.5, 21.149788298844232),\n",
        " (26.600000000000001, 27.765619307137385),\n",
        " (18.300000000000001, 20.048426067119056),\n",
        " (37.600000000000001, 37.683403978191535),\n",
        " (17.100000000000001, 19.843300353835861),\n",
        " (14.1, 18.317559803443594),\n",
        " (13.800000000000001, 5.6571166960652484),\n",
        " (23.100000000000001, 10.26944918199975),\n",
        " (38.700000000000003, 35.724687727022058),\n",
        " (27.899999999999999, 32.021893055503362),\n",
        " (24.300000000000001, 24.468755756164391),\n",
        " (35.399999999999999, 31.45038077164925),\n",
        " (33.100000000000001, 33.965868548574619),\n",
        " (19.5, 19.139552818786797),\n",
        " (8.0999999999999996, 2.6471783033214003),\n",
        " (32.5, 31.202512530750074),\n",
        " (20.0, 20.482691484065931),\n",
        " (19.600000000000001, 19.139980514492315),\n",
        " (20.899999999999999, 21.605239609410134),\n",
        " (7.2000000000000002, 9.3247019317838724),\n",
        " (19.5, 18.161543327773842),\n",
        " (25.0, 22.564116998212427),\n",
        " (29.100000000000001, 31.614648665707438),\n",
        " (21.399999999999999, 19.67737876429047),\n",
        " (21.600000000000001, 25.13725932311992),\n",
        " (25.0, 24.963191965846761),\n",
        " (18.399999999999999, 15.457682029843852),\n",
        " (13.4, 13.619447520514477),\n",
        " (30.100000000000001, 29.771209864680923)]"
       ]
      }
     ],
     "prompt_number": 7
    },
    {
     "cell_type": "code",
     "collapsed": false,
     "input": [
      "from sklearn.datasets import *\n",
      "data = load_boston()\n",
      "print data.DESR"
     ],
     "language": "python",
     "metadata": {},
     "outputs": [
      {
       "ename": "AttributeError",
       "evalue": "'Bunch' object has no attribute 'DESR'",
       "output_type": "pyerr",
       "traceback": [
        "\u001b[1;31m---------------------------------------------------------------------------\u001b[0m\n\u001b[1;31mAttributeError\u001b[0m                            Traceback (most recent call last)",
        "\u001b[1;32m<ipython-input-9-9b48c6868d0c>\u001b[0m in \u001b[0;36m<module>\u001b[1;34m()\u001b[0m\n\u001b[0;32m      1\u001b[0m \u001b[1;32mfrom\u001b[0m \u001b[0msklearn\u001b[0m\u001b[1;33m.\u001b[0m\u001b[0mdatasets\u001b[0m \u001b[1;32mimport\u001b[0m \u001b[1;33m*\u001b[0m\u001b[1;33m\u001b[0m\u001b[0m\n\u001b[0;32m      2\u001b[0m \u001b[0mdata\u001b[0m \u001b[1;33m=\u001b[0m \u001b[0mload_boston\u001b[0m\u001b[1;33m(\u001b[0m\u001b[1;33m)\u001b[0m\u001b[1;33m\u001b[0m\u001b[0m\n\u001b[1;32m----> 3\u001b[1;33m \u001b[1;32mprint\u001b[0m \u001b[0mdata\u001b[0m\u001b[1;33m.\u001b[0m\u001b[0mDESR\u001b[0m\u001b[1;33m\u001b[0m\u001b[0m\n\u001b[0m",
        "\u001b[1;31mAttributeError\u001b[0m: 'Bunch' object has no attribute 'DESR'"
       ]
      }
     ],
     "prompt_number": 9
    },
    {
     "cell_type": "code",
     "collapsed": false,
     "input": [
      "from sklearn.datasets import *\n",
      "from sklearn.linear_model import LinearRegression\n",
      "\n",
      "data = load_boston()\n",
      "model = LinearRegression()\n",
      "model.fit(data.data, data.target)\n",
      "print model.__dict__\n",
      "print model.score(data.data, data.target)"
     ],
     "language": "python",
     "metadata": {},
     "outputs": [
      {
       "output_type": "stream",
       "stream": "stdout",
       "text": [
        "{'normalize': False, 'intercept_': 36.491103280360925, 'residues_': 11080.276284149873, 'fit_intercept': True, 'coef_': array([ -1.07170557e-01,   4.63952195e-02,   2.08602395e-02,\n",
        "         2.68856140e+00,  -1.77957587e+01,   3.80475246e+00,\n",
        "         7.51061703e-04,  -1.47575880e+00,   3.05655038e-01,\n",
        "        -1.23293463e-02,  -9.53463555e-01,   9.39251272e-03,\n",
        "        -5.25466633e-01]), 'copy_X': True, 'rank_': 13, 'singular_': array([  3.94958310e+03,   1.77662274e+03,   6.42864253e+02,\n",
        "         3.66980826e+02,   1.59116390e+02,   1.18692322e+02,\n",
        "         9.01718207e+01,   6.93889529e+01,   4.06572735e+01,\n",
        "         2.44223087e+01,   1.13502686e+01,   5.50918200e+00,\n",
        "         1.24178413e+00])}\n",
        "0.740607742865\n"
       ]
      }
     ],
     "prompt_number": 10
    },
    {
     "cell_type": "code",
     "collapsed": false,
     "input": [
      "from sklearn.datasets import *\n",
      "from sklearn.cross_validation import train_test_split\n",
      "\n",
      "data = load_boston()\n",
      "\n",
      "X_train, X_test, y_train, y_test = train_test_split(data.data, data.target, train_size=0.5)\n",
      "model = LinearRegression()\n",
      "model.fit(X_train, y_train)\n",
      "print \"Train R2 %f\" %model.score(X_train, y_train)\n",
      "print \"Test R2 %f\" %model.score(X_test, y_test)"
     ],
     "language": "python",
     "metadata": {},
     "outputs": [
      {
       "output_type": "stream",
       "stream": "stdout",
       "text": [
        "Train R2 0.779021\n",
        "Test R2 0.664849\n"
       ]
      }
     ],
     "prompt_number": 11
    },
    {
     "cell_type": "code",
     "collapsed": false,
     "input": [
      "from sklearn.datasets import *\n",
      "data = load_boston()\n",
      "print data.DESCR"
     ],
     "language": "python",
     "metadata": {},
     "outputs": [
      {
       "output_type": "stream",
       "stream": "stdout",
       "text": [
        "Boston House Prices dataset\n",
        "\n",
        "Notes\n",
        "------\n",
        "Data Set Characteristics:  \n",
        "\n",
        "    :Number of Instances: 506 \n",
        "\n",
        "    :Number of Attributes: 13 numeric/categorical predictive\n",
        "    \n",
        "    :Median Value (attribute 14) is usually the target\n",
        "\n",
        "    :Attribute Information (in order):\n",
        "        - CRIM     per capita crime rate by town\n",
        "        - ZN       proportion of residential land zoned for lots over 25,000 sq.ft.\n",
        "        - INDUS    proportion of non-retail business acres per town\n",
        "        - CHAS     Charles River dummy variable (= 1 if tract bounds river; 0 otherwise)\n",
        "        - NOX      nitric oxides concentration (parts per 10 million)\n",
        "        - RM       average number of rooms per dwelling\n",
        "        - AGE      proportion of owner-occupied units built prior to 1940\n",
        "        - DIS      weighted distances to five Boston employment centres\n",
        "        - RAD      index of accessibility to radial highways\n",
        "        - TAX      full-value property-tax rate per $10,000\n",
        "        - PTRATIO  pupil-teacher ratio by town\n",
        "        - B        1000(Bk - 0.63)^2 where Bk is the proportion of blacks by town\n",
        "        - LSTAT    % lower status of the population\n",
        "        - MEDV     Median value of owner-occupied homes in $1000's\n",
        "\n",
        "    :Missing Attribute Values: None\n",
        "\n",
        "    :Creator: Harrison, D. and Rubinfeld, D.L.\n",
        "\n",
        "This is a copy of UCI ML housing dataset.\n",
        "http://archive.ics.uci.edu/ml/datasets/Housing\n",
        "\n",
        "\n",
        "This dataset was taken from the StatLib library which is maintained at Carnegie Mellon University.\n",
        "\n",
        "The Boston house-price data of Harrison, D. and Rubinfeld, D.L. 'Hedonic\n",
        "prices and the demand for clean air', J. Environ. Economics & Management,\n",
        "vol.5, 81-102, 1978.   Used in Belsley, Kuh & Welsch, 'Regression diagnostics\n",
        "...', Wiley, 1980.   N.B. Various transformations are used in the table on\n",
        "pages 244-261 of the latter.\n",
        "\n",
        "The Boston house-price data has been used in many machine learning papers that address regression\n",
        "problems.   \n",
        "     \n",
        "**References**\n",
        "\n",
        "   - Belsley, Kuh & Welsch, 'Regression diagnostics: Identifying Influential Data and Sources of Collinearity', Wiley, 1980. 244-261.\n",
        "   - Quinlan,R. (1993). Combining Instance-Based and Model-Based Learning. In Proceedings on the Tenth International Conference of Machine Learning, 236-243, University of Massachusetts, Amherst. Morgan Kaufmann.\n",
        "   - many more! (see http://archive.ics.uci.edu/ml/datasets/Housing)\n",
        "\n"
       ]
      }
     ],
     "prompt_number": 12
    },
    {
     "cell_type": "code",
     "collapsed": false,
     "input": [
      "#r2_score\n",
      "from sklearn.datasets import *\n",
      "from sklearn.linear_model import LinearRegression\n",
      "\n",
      "data = load_boston()\n",
      "model = LinearRegression()\n",
      "model.fit(data.data, data.target)\n",
      "print model.__dict__\n",
      "print model.score(data.data, data.target)"
     ],
     "language": "python",
     "metadata": {},
     "outputs": [
      {
       "output_type": "stream",
       "stream": "stdout",
       "text": [
        "{'normalize': False, 'intercept_': 36.491103280360925, 'residues_': 11080.276284149873, 'fit_intercept': True, 'coef_': array([ -1.07170557e-01,   4.63952195e-02,   2.08602395e-02,\n",
        "         2.68856140e+00,  -1.77957587e+01,   3.80475246e+00,\n",
        "         7.51061703e-04,  -1.47575880e+00,   3.05655038e-01,\n",
        "        -1.23293463e-02,  -9.53463555e-01,   9.39251272e-03,\n",
        "        -5.25466633e-01]), 'copy_X': True, 'rank_': 13, 'singular_': array([  3.94958310e+03,   1.77662274e+03,   6.42864253e+02,\n",
        "         3.66980826e+02,   1.59116390e+02,   1.18692322e+02,\n",
        "         9.01718207e+01,   6.93889529e+01,   4.06572735e+01,\n",
        "         2.44223087e+01,   1.13502686e+01,   5.50918200e+00,\n",
        "         1.24178413e+00])}\n",
        "0.740607742865\n"
       ]
      }
     ],
     "prompt_number": 13
    },
    {
     "cell_type": "code",
     "collapsed": false,
     "input": [
      "from sklearn.datasets import *\n",
      "from sklearn.cross_validation import train_test_split\n",
      "\n",
      "data = load_boston()\n",
      "\n",
      "X_train, X_test, y_train, y_test = train_test_split(data.data, data.target, train_size=0.5)\n",
      "model = LinearRegression()\n",
      "model.fit(X_train, y_train)\n",
      "print \"Train R2 %f\" %model.score(X_train, y_train)\n",
      "print \"Test R2 %f\" %model.score(X_test, y_test)"
     ],
     "language": "python",
     "metadata": {},
     "outputs": [
      {
       "output_type": "stream",
       "stream": "stdout",
       "text": [
        "Train R2 0.777016\n",
        "Test R2 0.688384\n"
       ]
      }
     ],
     "prompt_number": 14
    },
    {
     "cell_type": "code",
     "collapsed": false,
     "input": [
      "#mean sqared error\n",
      "from sklearn.metrics import mean_squared_error\n",
      "y_true = [5, -0.5, 6, 10]\n",
      "y_pred = [6.5, 0.7, 3, 8]\n",
      "mean_squared_error(y_true, y_pred)"
     ],
     "language": "python",
     "metadata": {},
     "outputs": [
      {
       "metadata": {},
       "output_type": "pyout",
       "prompt_number": 15,
       "text": [
        "4.1724999999999994"
       ]
      }
     ],
     "prompt_number": 15
    },
    {
     "cell_type": "code",
     "collapsed": false,
     "input": [
      "y_true = [[0.6, 3],[-3, 2],[5, -4]]\n",
      "y_pred = [[0, 2],[-1, 4],[8, -5]]\n",
      "mean_squared_error(y_true, y_pred)"
     ],
     "language": "python",
     "metadata": {},
     "outputs": [
      {
       "metadata": {},
       "output_type": "pyout",
       "prompt_number": 16,
       "text": [
        "3.2266666666666666"
       ]
      }
     ],
     "prompt_number": 16
    },
    {
     "cell_type": "code",
     "collapsed": false,
     "input": [
      "#using linear regularization sklearn.linear_model.Lasso\n",
      "from sklearn import linear_model\n",
      "clf = linear_model.Lasso(alpha=0.1)\n",
      "clf.fit([[0,1], [1, 3], [3, 2]], [0, 1, 2])"
     ],
     "language": "python",
     "metadata": {},
     "outputs": [
      {
       "metadata": {},
       "output_type": "pyout",
       "prompt_number": 19,
       "text": [
        "Lasso(alpha=0.1, copy_X=True, fit_intercept=True, max_iter=1000,\n",
        "   normalize=False, positive=False, precompute='auto', tol=0.0001,\n",
        "   warm_start=False)"
       ]
      }
     ],
     "prompt_number": 19
    },
    {
     "cell_type": "code",
     "collapsed": false,
     "input": [
      "print(clf.coef_)"
     ],
     "language": "python",
     "metadata": {},
     "outputs": [
      {
       "output_type": "stream",
       "stream": "stdout",
       "text": [
        "[ 0.56400192  0.06799904]\n"
       ]
      }
     ],
     "prompt_number": 20
    },
    {
     "cell_type": "code",
     "collapsed": false,
     "input": [
      "print(clf.intercept_)"
     ],
     "language": "python",
     "metadata": {},
     "outputs": [
      {
       "output_type": "stream",
       "stream": "stdout",
       "text": [
        "0.111999359921\n"
       ]
      }
     ],
     "prompt_number": 21
    },
    {
     "cell_type": "code",
     "collapsed": false,
     "input": [
      "from sklearn import linear_model\n",
      "clfA = linear_model.Lasso(alpha=1.0)\n",
      "clfA.fit([[0,0], [1, 1], [2, 2]], [0, 1, 2])"
     ],
     "language": "python",
     "metadata": {},
     "outputs": [
      {
       "metadata": {},
       "output_type": "pyout",
       "prompt_number": 22,
       "text": [
        "Lasso(alpha=1.0, copy_X=True, fit_intercept=True, max_iter=1000,\n",
        "   normalize=False, positive=False, precompute='auto', tol=0.0001,\n",
        "   warm_start=False)"
       ]
      }
     ],
     "prompt_number": 22
    },
    {
     "cell_type": "code",
     "collapsed": false,
     "input": [
      "clfB = linear_model.Lasso(alpha=10.0)\n",
      "clfB.fit([[0,0], [1, 1], [2, 2]], [0, 2, 2])"
     ],
     "language": "python",
     "metadata": {},
     "outputs": [
      {
       "metadata": {},
       "output_type": "pyout",
       "prompt_number": 24,
       "text": [
        "Lasso(alpha=10.0, copy_X=True, fit_intercept=True, max_iter=1000,\n",
        "   normalize=False, positive=False, precompute='auto', tol=0.0001,\n",
        "   warm_start=False)"
       ]
      }
     ],
     "prompt_number": 24
    },
    {
     "cell_type": "code",
     "collapsed": false,
     "input": [
      "from sklearn.linear_model import Ridge\n",
      "import numpy as np\n",
      "n_samples, n_features = 10, 6\n",
      "np.random.seed(0)\n",
      "y = np.random.randn(n_samples)\n",
      "X = np.random.randn(n_samples, n_features)\n",
      "clf = Ridge(alpha=1.0)\n",
      "clf.fit(X, y) \n",
      "Ridge(alpha=1.0, copy_X=True, fit_intercept=True, max_iter=None,\n",
      "      normalize=False, solver='auto', tol=0.001)"
     ],
     "language": "python",
     "metadata": {},
     "outputs": [
      {
       "metadata": {},
       "output_type": "pyout",
       "prompt_number": 25,
       "text": [
        "Ridge(alpha=1.0, copy_X=True, fit_intercept=True, max_iter=None,\n",
        "   normalize=False, solver='auto', tol=0.001)"
       ]
      }
     ],
     "prompt_number": 25
    },
    {
     "cell_type": "code",
     "collapsed": false,
     "input": [
      "#I have tried my best to complete this lab and i guess this is the output. Please let me know the mistakes that I have done to correct myself for the upcoming labs"
     ],
     "language": "python",
     "metadata": {},
     "outputs": [],
     "prompt_number": 26
    },
    {
     "cell_type": "code",
     "collapsed": false,
     "input": [],
     "language": "python",
     "metadata": {},
     "outputs": []
    }
   ],
   "metadata": {}
  }
 ]
}